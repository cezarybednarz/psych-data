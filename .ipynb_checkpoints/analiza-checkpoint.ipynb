{
 "cells": [
  {
   "cell_type": "code",
   "execution_count": 116,
   "metadata": {},
   "outputs": [
    {
     "name": "stdout",
     "output_type": "stream",
     "text": [
      "number of people:  117\n"
     ]
    }
   ],
   "source": [
    "import numpy as np\n",
    "import pandas as pd\n",
    "import matplotlib.pyplot as plt\n",
    "import math\n",
    "\n",
    "\n",
    "data = pd.read_csv(\"data_clear.csv\") \n",
    "d = data.to_numpy() \n",
    "\n",
    "N = d.shape[0]\n",
    "\n",
    "print(\"number of people: \", N)\n",
    "\n",
    "normal = d[:,0:12]\n",
    "slow   = d[:,12:24]\n",
    "fast   = d[:,24:36]\n",
    "\n",
    "sexes = np.array([1,2,1,1,2,1,2,2,2,2,1,1])"
   ]
  },
  {
   "cell_type": "code",
   "execution_count": 135,
   "metadata": {},
   "outputs": [
    {
     "name": "stdout",
     "output_type": "stream",
     "text": [
      "527 438 443 845 846 856\n",
      "0.6236686390532544 0.5175233644859814 0.5177304964539007\n"
     ]
    }
   ],
   "source": [
    "n_value = 0\n",
    "s_value = 0\n",
    "f_value = 0\n",
    "\n",
    "n_total = 0\n",
    "s_total = 0\n",
    "f_total = 0\n",
    "\n",
    "n_correct = []\n",
    "s_correct = []\n",
    "f_correct = []\n",
    "\n",
    "# guessed sex of models (>= 0 is man <= 0 is woman)\n",
    "n_model = np.zeros(12) \n",
    "f_model = np.zeros(12)\n",
    "s_model = np.zeros(12)\n",
    "\n",
    "for person in range(N):\n",
    "    correct = 0\n",
    "    total = 0\n",
    "    \n",
    "    person_n_total = 0\n",
    "    person_n_value = 0\n",
    "    person_f_total = 0\n",
    "    person_f_value = 0\n",
    "    person_s_total = 0\n",
    "    person_s_value = 0\n",
    "    \n",
    "    for i in range(12):\n",
    "        if(math.isnan(normal[person, i])):\n",
    "            continue\n",
    "            \n",
    "        if(normal[person, i] == 1):\n",
    "            n_model += 1\n",
    "        else:\n",
    "            n_model -= 1\n",
    "            \n",
    "        person_n_total += 1;\n",
    "        if(normal[person, i] == sexes[i]):\n",
    "            person_n_value += 1\n",
    "            \n",
    "    for i in range(12):\n",
    "        if(math.isnan(fast[person, i])):\n",
    "            continue\n",
    "        \n",
    "        if(fast[person, i] == 1):\n",
    "            f_model += 1\n",
    "        else:\n",
    "            f_model -= 1\n",
    "        \n",
    "        person_f_total += 1\n",
    "        if(fast[person, i] == sexes[i]):\n",
    "            person_f_value += 1\n",
    "        \n",
    "    for i in range(12):\n",
    "        if(math.isnan(slow[person, i])):\n",
    "            continue\n",
    "            \n",
    "        if(slow[person, i] == 1):\n",
    "            s_model += 1\n",
    "        else:\n",
    "            s_model -= 1\n",
    "            \n",
    "        person_s_total += 1\n",
    "        if(slow[person, i] == sexes[i]):\n",
    "            person_s_value += 1\n",
    "    \n",
    "    n_total += person_n_total\n",
    "    n_value += person_n_value\n",
    "    f_total += person_f_total\n",
    "    f_value += person_f_value\n",
    "    s_total += person_s_total\n",
    "    s_value += person_s_value\n",
    "    \n",
    "    if(person_n_total != 0):\n",
    "        n_correct.append(person_n_value / person_n_total)\n",
    "    if(person_f_total != 0):\n",
    "        f_correct.append(person_f_value / person_f_total)\n",
    "    if(person_s_total != 0):\n",
    "        s_correct.append(person_s_value / person_s_total)\n",
    "\n",
    "print(n_value, s_value, f_value, n_total, s_total, f_total)\n",
    "        \n",
    "print(n_value / n_total, f_value / f_total, s_value / s_total)"
   ]
  },
  {
   "cell_type": "code",
   "execution_count": 128,
   "metadata": {
    "scrolled": true
   },
   "outputs": [
    {
     "data": {
      "text/plain": [
       "(array([ 3.,  0.,  0.,  1.,  2.,  6.,  9., 20., 25., 12.,  2.,  6.]),\n",
       " array([0.        , 0.08333333, 0.16666667, 0.25      , 0.33333333,\n",
       "        0.41666667, 0.5       , 0.58333333, 0.66666667, 0.75      ,\n",
       "        0.83333333, 0.91666667, 1.        ]),\n",
       " <a list of 12 Patch objects>)"
      ]
     },
     "execution_count": 128,
     "metadata": {},
     "output_type": "execute_result"
    },
    {
     "data": {
      "image/png": "[encoded data removed]",
      "text/plain": [
       "<Figure size 432x288 with 1 Axes>"
      ]
     },
     "metadata": {},
     "output_type": "display_data"
    }
   ],
   "source": [
    "plt.hist(n_correct,bins=12)"
   ]
  },
  {
   "cell_type": "code",
   "execution_count": 129,
   "metadata": {},
   "outputs": [
    {
     "data": {
      "text/plain": [
       "(array([ 6.,  0.,  0.,  4., 10., 14., 19., 13., 10.,  6.,  0.,  5.]),\n",
       " array([0.        , 0.08333333, 0.16666667, 0.25      , 0.33333333,\n",
       "        0.41666667, 0.5       , 0.58333333, 0.66666667, 0.75      ,\n",
       "        0.83333333, 0.91666667, 1.        ]),\n",
       " <a list of 12 Patch objects>)"
      ]
     },
     "execution_count": 129,
     "metadata": {},
     "output_type": "execute_result"
    },
    {
     "data": {
      "image/png": "[encoded data removed]",
      "text/plain": [
       "<Figure size 432x288 with 1 Axes>"
      ]
     },
     "metadata": {},
     "output_type": "display_data"
    }
   ],
   "source": [
    "plt.hist(f_correct,bins=12)"
   ]
  },
  {
   "cell_type": "code",
   "execution_count": 130,
   "metadata": {},
   "outputs": [
    {
     "data": {
      "text/plain": [
       "(array([ 6.,  0.,  1.,  0.,  7., 20., 17., 15., 17.,  1.,  0.,  4.]),\n",
       " array([0.        , 0.08333333, 0.16666667, 0.25      , 0.33333333,\n",
       "        0.41666667, 0.5       , 0.58333333, 0.66666667, 0.75      ,\n",
       "        0.83333333, 0.91666667, 1.        ]),\n",
       " <a list of 12 Patch objects>)"
      ]
     },
     "execution_count": 130,
     "metadata": {},
     "output_type": "execute_result"
    },
    {
     "data": {
      "image/png": "[encoded data removed]",
      "text/plain": [
       "<Figure size 432x288 with 1 Axes>"
      ]
     },
     "metadata": {},
     "output_type": "display_data"
    }
   ],
   "source": [
    "plt.hist(s_correct,bins=12)"
   ]
  },
  {
   "cell_type": "code",
   "execution_count": 132,
   "metadata": {},
   "outputs": [
    {
     "name": "stdout",
     "output_type": "stream",
     "text": [
      "std of n_correct =  0.18622765245009024\n",
      "std of f_correct =  0.2152854718431704\n",
      "std of s_correct =  0.200394974986149\n"
     ]
    }
   ],
   "source": [
    "print(\"std of n_correct = \", np.std(np.array(n_correct)))\n",
    "print(\"std of f_correct = \", np.std(np.array(f_correct)))\n",
    "print(\"std of s_correct = \", np.std(np.array(s_correct)))"
   ]
  },
  {
   "cell_type": "code",
   "execution_count": null,
   "metadata": {},
   "outputs": [],
   "source": []
  }
 ],
 "metadata": {
  "kernelspec": {
   "display_name": "Python 3",
   "language": "python",
   "name": "python3"
  },
  "language_info": {
   "codemirror_mode": {
    "name": "ipython",
    "version": 3
   },
   "file_extension": ".py",
   "mimetype": "text/x-python",
   "name": "python",
   "nbconvert_exporter": "python",
   "pygments_lexer": "ipython3",
   "version": "3.6.9"
  }
 },
 "nbformat": 4,
 "nbformat_minor": 2
}
