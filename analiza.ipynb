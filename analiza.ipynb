{
 "cells": [
  {
   "cell_type": "code",
   "execution_count": 168,
   "metadata": {},
   "outputs": [
    {
     "name": "stdout",
     "output_type": "stream",
     "text": [
      "number of people:  61\n"
     ]
    }
   ],
   "source": [
    "import numpy as np\n",
    "import pandas as pd\n",
    "import matplotlib.pyplot as plt\n",
    "import math\n",
    "\n",
    "\n",
    "data = pd.read_csv(\"data_clear.csv\") \n",
    "d = data.to_numpy() \n",
    "\n",
    "N = d.shape[0]\n",
    "\n",
    "print(\"number of people: \", N)\n",
    "\n",
    "normal = d[:,0:12]\n",
    "slow   = d[:,12:24]\n",
    "fast   = d[:,24:36]\n",
    "\n",
    "# 1 -> male\n",
    "# 2 -> female\n",
    "sexes = np.array([1,2,1,1,2,1,2,2,2,2,1,1])"
   ]
  },
  {
   "cell_type": "code",
   "execution_count": 169,
   "metadata": {},
   "outputs": [
    {
     "name": "stdout",
     "output_type": "stream",
     "text": [
      "458 373 379 725 721 725\n",
      "0.6317241379310344 0.5227586206896552 0.5173370319001387\n"
     ]
    }
   ],
   "source": [
    "n_value = 0\n",
    "s_value = 0\n",
    "f_value = 0\n",
    "\n",
    "n_total = 0\n",
    "s_total = 0\n",
    "f_total = 0\n",
    "\n",
    "n_correct = []\n",
    "s_correct = []\n",
    "f_correct = []\n",
    "\n",
    "# guessed sex of models (>= 0 is man <= 0 is woman)\n",
    "n_model = np.zeros(12) \n",
    "f_model = np.zeros(12)\n",
    "s_model = np.zeros(12)\n",
    "\n",
    "for person in range(N):\n",
    "    correct = 0\n",
    "    total = 0\n",
    "    \n",
    "    person_n_total = 0\n",
    "    person_n_value = 0\n",
    "    person_f_total = 0\n",
    "    person_f_value = 0\n",
    "    person_s_total = 0\n",
    "    person_s_value = 0\n",
    "    \n",
    "    for i in range(12):\n",
    "        if(math.isnan(normal[person, i])):\n",
    "            continue\n",
    "            \n",
    "        if(normal[person, i] == 1):\n",
    "            n_model[i] += 1\n",
    "        else:\n",
    "            n_model[i] -= 1\n",
    "            \n",
    "        person_n_total += 1;\n",
    "        if(normal[person, i] == sexes[i]):\n",
    "            person_n_value += 1\n",
    "            \n",
    "    for i in range(12):\n",
    "        if(math.isnan(fast[person, i])):\n",
    "            continue\n",
    "        \n",
    "        if(fast[person, i] == 1):\n",
    "            f_model[i] += 1\n",
    "        else:\n",
    "            f_model[i] -= 1\n",
    "        \n",
    "        person_f_total += 1\n",
    "        if(fast[person, i] == sexes[i]):\n",
    "            person_f_value += 1\n",
    "        \n",
    "    for i in range(12):\n",
    "        if(math.isnan(slow[person, i])):\n",
    "            continue\n",
    "            \n",
    "        if(slow[person, i] == 1):\n",
    "            s_model[i] += 1\n",
    "        else:\n",
    "            s_model[i] -= 1\n",
    "            \n",
    "        person_s_total += 1\n",
    "        if(slow[person, i] == sexes[i]):\n",
    "            person_s_value += 1\n",
    "    \n",
    "    n_total += person_n_total\n",
    "    n_value += person_n_value\n",
    "    f_total += person_f_total\n",
    "    f_value += person_f_value\n",
    "    s_total += person_s_total\n",
    "    s_value += person_s_value\n",
    "    \n",
    "    if(person_n_total != 0):\n",
    "        n_correct.append(person_n_value / person_n_total)\n",
    "    if(person_f_total != 0):\n",
    "        f_correct.append(person_f_value / person_f_total)\n",
    "    if(person_s_total != 0):\n",
    "        s_correct.append(person_s_value / person_s_total)\n",
    "\n",
    "print(n_value, s_value, f_value, n_total, s_total, f_total)\n",
    "        \n",
    "print(n_value / n_total, f_value / f_total, s_value / s_total)"
   ]
  },
  {
   "cell_type": "code",
   "execution_count": 177,
   "metadata": {
    "scrolled": true
   },
   "outputs": [
    {
     "ename": "SyntaxError",
     "evalue": "positional argument follows keyword argument (<ipython-input-177-c3532c8aeac9>, line 1)",
     "output_type": "error",
     "traceback": [
      "\u001b[0;36m  File \u001b[0;32m\"<ipython-input-177-c3532c8aeac9>\"\u001b[0;36m, line \u001b[0;32m1\u001b[0m\n\u001b[0;31m    plt.hist(n_correct,bins=8,range(0,1))\u001b[0m\n\u001b[0m                             ^\u001b[0m\n\u001b[0;31mSyntaxError\u001b[0m\u001b[0;31m:\u001b[0m positional argument follows keyword argument\n"
     ]
    }
   ],
   "source": [
    "plt.hist(n_correct,bins=8,range(0,1))"
   ]
  },
  {
   "cell_type": "code",
   "execution_count": 171,
   "metadata": {},
   "outputs": [
    {
     "data": {
      "text/plain": [
       "(array([ 2.,  0.,  7.,  0., 10.,  0., 15.,  0., 13.,  0., 10.,  4.]),\n",
       " array([0.25      , 0.29166667, 0.33333333, 0.375     , 0.41666667,\n",
       "        0.45833333, 0.5       , 0.54166667, 0.58333333, 0.625     ,\n",
       "        0.66666667, 0.70833333, 0.75      ]),\n",
       " <a list of 12 Patch objects>)"
      ]
     },
     "execution_count": 171,
     "metadata": {},
     "output_type": "execute_result"
    },
    {
     "data": {
      "image/png": "[encoded data removed]",
      "text/plain": [
       "<Figure size 432x288 with 1 Axes>"
      ]
     },
     "metadata": {},
     "output_type": "display_data"
    }
   ],
   "source": [
    "plt.hist(f_correct,bins=12)"
   ]
  },
  {
   "cell_type": "code",
   "execution_count": 172,
   "metadata": {},
   "outputs": [
    {
     "data": {
      "text/plain": [
       "(array([ 4.,  2., 17.,  1., 11.,  0.,  1., 12.,  0., 12.,  0.,  1.]),\n",
       " array([0.33333333, 0.36805556, 0.40277778, 0.4375    , 0.47222222,\n",
       "        0.50694444, 0.54166667, 0.57638889, 0.61111111, 0.64583333,\n",
       "        0.68055556, 0.71527778, 0.75      ]),\n",
       " <a list of 12 Patch objects>)"
      ]
     },
     "execution_count": 172,
     "metadata": {},
     "output_type": "execute_result"
    },
    {
     "data": {
      "image/png": "[encoded data removed]",
      "text/plain": [
       "<Figure size 432x288 with 1 Axes>"
      ]
     },
     "metadata": {},
     "output_type": "display_data"
    }
   ],
   "source": [
    "plt.hist(s_correct,bins=12)"
   ]
  },
  {
   "cell_type": "code",
   "execution_count": 173,
   "metadata": {
    "scrolled": true
   },
   "outputs": [
    {
     "name": "stdout",
     "output_type": "stream",
     "text": [
      "mean of n_correct =  0.6326875310481868\n",
      "mean of f_correct =  0.5219407186620301\n",
      "mean of s_correct =  0.5156814042059943\n",
      "std of n_correct =  0.10152922288177606\n",
      "std of f_correct =  0.12514619932809937\n",
      "std of s_correct =  0.10852857718990087\n"
     ]
    }
   ],
   "source": [
    "print(\"mean of n_correct = \", np.mean(np.array(n_correct)))\n",
    "print(\"mean of f_correct = \", np.mean(np.array(f_correct)))\n",
    "print(\"mean of s_correct = \", np.mean(np.array(s_correct)))\n",
    "\n",
    "print(\"std of n_correct = \", np.std(np.array(n_correct)))\n",
    "print(\"std of f_correct = \", np.std(np.array(f_correct)))\n",
    "print(\"std of s_correct = \", np.std(np.array(s_correct)))"
   ]
  },
  {
   "cell_type": "code",
   "execution_count": 174,
   "metadata": {},
   "outputs": [
    {
     "name": "stdout",
     "output_type": "stream",
     "text": [
      "wrong guessed sex:  1 20.0\n",
      "wrong guessed sex:  7 18.0\n",
      "wrong guessed sex:  9 18.0\n"
     ]
    }
   ],
   "source": [
    "# people guessed wrong\n",
    "for i in range(12):\n",
    "    if(sexes[i] == 1 and n_model[i] < 0 or \n",
    "       sexes[i] == 2 and n_model[i] > 0):\n",
    "        print(\"wrong guessed sex: \", i, n_model[i])"
   ]
  },
  {
   "cell_type": "code",
   "execution_count": 175,
   "metadata": {},
   "outputs": [
    {
     "name": "stdout",
     "output_type": "stream",
     "text": [
      "151.0 -83.0 65.0\n"
     ]
    }
   ],
   "source": [
    "n_total_score = 0\n",
    "f_total_score = 0\n",
    "s_total_score = 0\n",
    "\n",
    "for i in range(12):\n",
    "    multiply = 1\n",
    "    if(sexes[i] == 2):\n",
    "        multiply = 1\n",
    "        \n",
    "    n_total_score += multiply * n_model[i]\n",
    "    f_total_score += multiply * f_model[i]\n",
    "    s_total_score += multiply * s_model[i]\n",
    "        \n",
    "print(n_total_score, f_total_score, s_total_score)"
   ]
  },
  {
   "cell_type": "code",
   "execution_count": null,
   "metadata": {},
   "outputs": [],
   "source": []
  },
  {
   "cell_type": "code",
   "execution_count": null,
   "metadata": {},
   "outputs": [],
   "source": []
  }
 ],
 "metadata": {
  "kernelspec": {
   "display_name": "Python 3",
   "language": "python",
   "name": "python3"
  },
  "language_info": {
   "codemirror_mode": {
    "name": "ipython",
    "version": 3
   },
   "file_extension": ".py",
   "mimetype": "text/x-python",
   "name": "python",
   "nbconvert_exporter": "python",
   "pygments_lexer": "ipython3",
   "version": "3.6.9"
  }
 },
 "nbformat": 4,
 "nbformat_minor": 2
}
