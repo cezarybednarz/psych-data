{
 "cells": [
  {
   "cell_type": "code",
   "execution_count": 82,
   "metadata": {},
   "outputs": [
    {
     "name": "stdout",
     "output_type": "stream",
     "text": [
      "number of people:  117\n"
     ]
    }
   ],
   "source": [
    "import numpy as np\n",
    "import pandas as pd\n",
    "import matplotlib.pyplot as plt\n",
    "import math\n",
    "\n",
    "\n",
    "data = pd.read_csv(\"data_clear.csv\") \n",
    "d = data.to_numpy() \n",
    "\n",
    "N = d.shape[0]\n",
    "\n",
    "print(\"number of people: \", N)\n",
    "\n",
    "normal = d[:,0:12]\n",
    "slow   = d[:,12:24]\n",
    "fast   = d[:,24:36]\n",
    "\n",
    "sexes = np.array([1,2,1,1,2,1,2,2,2,2,1,1])"
   ]
  },
  {
   "cell_type": "code",
   "execution_count": 93,
   "metadata": {},
   "outputs": [
    {
     "name": "stdout",
     "output_type": "stream",
     "text": [
      "527 438 443 845 846 856\n",
      "0.6236686390532544 0.5175233644859814 0.5177304964539007\n"
     ]
    }
   ],
   "source": [
    "n_value = 0\n",
    "s_value = 0\n",
    "f_value = 0\n",
    "\n",
    "n_total = 0\n",
    "s_total = 0\n",
    "f_total = 0\n",
    "\n",
    "n_correct = np.array([])\n",
    "s_correct = np.array([])\n",
    "f_correct = np.array([])\n",
    "\n",
    "for person in range(N):\n",
    "    correct = 0\n",
    "    total = 0\n",
    "    \n",
    "    person_n_total = 0\n",
    "    person_n_value = 0\n",
    "    person_f_total = 0\n",
    "    person_f_value = 0\n",
    "    person_s_total = 0\n",
    "    person_s_value = 0\n",
    "    \n",
    "    for i in range(12):\n",
    "        if(math.isnan(normal[person, i])):\n",
    "            continue\n",
    "        person_n_total += 1;\n",
    "        if(normal[person, i] == sexes[i]):\n",
    "            person_n_value += 1\n",
    "            \n",
    "    for i in range(12):\n",
    "        if(math.isnan(fast[person, i])):\n",
    "            continue\n",
    "        person_f_total += 1\n",
    "        if(fast[person, i] == sexes[i]):\n",
    "            person_f_value += 1\n",
    "        \n",
    "    for i in range(12):\n",
    "        if(math.isnan(slow[person, i])):\n",
    "            continue\n",
    "        person_s_total += 1\n",
    "        if(slow[person, i] == sexes[i]):\n",
    "            person_s_value += 1\n",
    "    \n",
    "    n_total += person_n_total\n",
    "    n_value += person_n_value\n",
    "    f_total += person_f_total\n",
    "    f_value += person_f_value\n",
    "    s_total += person_s_total\n",
    "    s_value += person_s_value\n",
    "    \n",
    "    \n",
    "    if(person_n_total != 0):\n",
    "        np.append(n_correct, np.array([person_n_value / person_n_total]))\n",
    "    if(person_f_total != 0):\n",
    "        np.append(f_correct, np.array([person_f_value / person_f_total]))\n",
    "    if(person_s_total != 0):\n",
    "        np.append(s_correct, np.array([person_s_value / person_s_total]))\n",
    "\n",
    "print(n_value, s_value, f_value, n_total, s_total, f_total)\n",
    "        \n",
    "print(n_value / n_total, f_value / f_total, s_value / s_total)"
   ]
  },
  {
   "cell_type": "code",
   "execution_count": 70,
   "metadata": {},
   "outputs": [],
   "source": []
  },
  {
   "cell_type": "code",
   "execution_count": null,
   "metadata": {},
   "outputs": [],
   "source": []
  }
 ],
 "metadata": {
  "kernelspec": {
   "display_name": "Python 3",
   "language": "python",
   "name": "python3"
  },
  "language_info": {
   "codemirror_mode": {
    "name": "ipython",
    "version": 3
   },
   "file_extension": ".py",
   "mimetype": "text/x-python",
   "name": "python",
   "nbconvert_exporter": "python",
   "pygments_lexer": "ipython3",
   "version": "3.6.9"
  }
 },
 "nbformat": 4,
 "nbformat_minor": 2
}
